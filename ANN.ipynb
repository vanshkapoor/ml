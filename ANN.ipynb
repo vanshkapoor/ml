{
 "cells": [
  {
   "cell_type": "code",
   "execution_count": 1,
   "metadata": {},
   "outputs": [],
   "source": [
    "import numpy as np\n",
    "import matplotlib.pyplot as plt\n",
    "import pandas as pd"
   ]
  },
  {
   "cell_type": "code",
   "execution_count": 15,
   "metadata": {},
   "outputs": [
    {
     "name": "stdout",
     "output_type": "stream",
     "text": [
      "<class 'pandas.core.frame.DataFrame'>\n",
      "RangeIndex: 10000 entries, 0 to 9999\n",
      "Data columns (total 14 columns):\n",
      "RowNumber          10000 non-null int64\n",
      "CustomerId         10000 non-null int64\n",
      "Surname            10000 non-null object\n",
      "CreditScore        10000 non-null int64\n",
      "Geography          10000 non-null object\n",
      "Gender             10000 non-null object\n",
      "Age                10000 non-null int64\n",
      "Tenure             10000 non-null int64\n",
      "Balance            10000 non-null float64\n",
      "NumOfProducts      10000 non-null int64\n",
      "HasCrCard          10000 non-null int64\n",
      "IsActiveMember     10000 non-null int64\n",
      "EstimatedSalary    10000 non-null float64\n",
      "Exited             10000 non-null int64\n",
      "dtypes: float64(2), int64(9), object(3)\n",
      "memory usage: 1.1+ MB\n"
     ]
    },
    {
     "data": {
      "text/plain": [
       "array([[619, 'France', 'Female', ..., 1, 1, 101348.88],\n",
       "       [608, 'Spain', 'Female', ..., 0, 1, 112542.58],\n",
       "       [502, 'France', 'Female', ..., 1, 0, 113931.57],\n",
       "       ...,\n",
       "       [709, 'France', 'Female', ..., 0, 1, 42085.58],\n",
       "       [772, 'Germany', 'Male', ..., 1, 0, 92888.52],\n",
       "       [792, 'France', 'Female', ..., 1, 0, 38190.78]], dtype=object)"
      ]
     },
     "execution_count": 15,
     "metadata": {},
     "output_type": "execute_result"
    }
   ],
   "source": [
    "dataset = pd.read_csv('Churn_Modelling.csv')\n",
    "dataset.info()\n",
    "x = dataset.iloc[:,3:13].values\n",
    "y = dataset.iloc[:,13].values\n",
    "x"
   ]
  },
  {
   "cell_type": "code",
   "execution_count": 17,
   "metadata": {},
   "outputs": [
    {
     "name": "stderr",
     "output_type": "stream",
     "text": [
      "/home/vansh/anaconda3/lib/python3.7/site-packages/sklearn/preprocessing/_encoders.py:415: FutureWarning: The handling of integer data will change in version 0.22. Currently, the categories are determined based on the range [0, max(values)], while in the future they will be determined based on the unique values.\n",
      "If you want the future behaviour and silence this warning, you can specify \"categories='auto'\".\n",
      "In case you used a LabelEncoder before this OneHotEncoder to convert the categories to integers, then you can now use the OneHotEncoder directly.\n",
      "  warnings.warn(msg, FutureWarning)\n",
      "/home/vansh/anaconda3/lib/python3.7/site-packages/sklearn/preprocessing/_encoders.py:451: DeprecationWarning: The 'categorical_features' keyword is deprecated in version 0.20 and will be removed in 0.22. You can use the ColumnTransformer instead.\n",
      "  \"use the ColumnTransformer instead.\", DeprecationWarning)\n"
     ]
    }
   ],
   "source": [
    "from sklearn.preprocessing import LabelEncoder, OneHotEncoder\n",
    "labelencoder_X_1 = LabelEncoder()\n",
    "x[:, 1] = labelencoder_X_1.fit_transform(x[:, 1])\n",
    "labelencoder_X_2 = LabelEncoder()\n",
    "x[:, 2] = labelencoder_X_2.fit_transform(x[:, 2])\n",
    "onehotencoder = OneHotEncoder(categorical_features = [1])\n",
    "x = onehotencoder.fit_transform(x).toarray()\n",
    "x = x[:, 1:]\n"
   ]
  },
  {
   "cell_type": "code",
   "execution_count": 19,
   "metadata": {},
   "outputs": [],
   "source": [
    "from sklearn.model_selection import train_test_split\n",
    "x_train, x_test, y_train, y_test = train_test_split(x, y, test_size = 0.2, random_state = 0)\n"
   ]
  },
  {
   "cell_type": "code",
   "execution_count": 20,
   "metadata": {},
   "outputs": [],
   "source": [
    "from sklearn.preprocessing import StandardScaler\n",
    "sc = StandardScaler()\n",
    "x_train = sc.fit_transform(x_train)\n",
    "x_test = sc.transform(x_test)\n"
   ]
  },
  {
   "cell_type": "code",
   "execution_count": 21,
   "metadata": {},
   "outputs": [
    {
     "name": "stderr",
     "output_type": "stream",
     "text": [
      "Using TensorFlow backend.\n"
     ]
    }
   ],
   "source": [
    "import keras\n",
    "from keras.models import Sequential\n",
    "from keras.layers import Dense\n"
   ]
  },
  {
   "cell_type": "code",
   "execution_count": 22,
   "metadata": {},
   "outputs": [],
   "source": [
    "classifier = Sequential()\n"
   ]
  },
  {
   "cell_type": "code",
   "execution_count": 24,
   "metadata": {},
   "outputs": [
    {
     "name": "stderr",
     "output_type": "stream",
     "text": [
      "/home/vansh/anaconda3/lib/python3.7/site-packages/ipykernel_launcher.py:2: UserWarning: Update your `Dense` call to the Keras 2 API: `Dense(activation=\"relu\", input_dim=11, units=6, kernel_initializer=\"uniform\")`\n",
      "  \n",
      "/home/vansh/anaconda3/lib/python3.7/site-packages/ipykernel_launcher.py:5: UserWarning: Update your `Dense` call to the Keras 2 API: `Dense(activation=\"relu\", units=6, kernel_initializer=\"uniform\")`\n",
      "  \"\"\"\n",
      "/home/vansh/anaconda3/lib/python3.7/site-packages/ipykernel_launcher.py:8: UserWarning: Update your `Dense` call to the Keras 2 API: `Dense(activation=\"sigmoid\", units=1, kernel_initializer=\"uniform\")`\n",
      "  \n",
      "/home/vansh/anaconda3/lib/python3.7/site-packages/ipykernel_launcher.py:14: UserWarning: The `nb_epoch` argument in `fit` has been renamed `epochs`.\n",
      "  \n"
     ]
    },
    {
     "name": "stdout",
     "output_type": "stream",
     "text": [
      "Epoch 1/100\n",
      "8000/8000 [==============================] - 5s 680us/step - loss: 0.5218 - accuracy: 0.7960\n",
      "Epoch 2/100\n",
      "8000/8000 [==============================] - 4s 473us/step - loss: 0.4450 - accuracy: 0.7960\n",
      "Epoch 3/100\n",
      "8000/8000 [==============================] - 4s 460us/step - loss: 0.4326 - accuracy: 0.7960\n",
      "Epoch 4/100\n",
      "8000/8000 [==============================] - 4s 486us/step - loss: 0.4287 - accuracy: 0.7960\n",
      "Epoch 5/100\n",
      "8000/8000 [==============================] - 4s 443us/step - loss: 0.4250 - accuracy: 0.8030\n",
      "Epoch 6/100\n",
      "8000/8000 [==============================] - 3s 431us/step - loss: 0.4201 - accuracy: 0.8196\n",
      "Epoch 7/100\n",
      "8000/8000 [==============================] - 4s 448us/step - loss: 0.4134 - accuracy: 0.8249\n",
      "Epoch 8/100\n",
      "8000/8000 [==============================] - 3s 411us/step - loss: 0.4035 - accuracy: 0.8301\n",
      "Epoch 9/100\n",
      "8000/8000 [==============================] - 4s 474us/step - loss: 0.3942 - accuracy: 0.8316\n",
      "Epoch 10/100\n",
      "8000/8000 [==============================] - 4s 455us/step - loss: 0.3853 - accuracy: 0.8376\n",
      "Epoch 11/100\n",
      "8000/8000 [==============================] - 3s 432us/step - loss: 0.3789 - accuracy: 0.8462\n",
      "Epoch 12/100\n",
      "8000/8000 [==============================] - 3s 362us/step - loss: 0.3727 - accuracy: 0.8497\n",
      "Epoch 13/100\n",
      "8000/8000 [==============================] - 4s 439us/step - loss: 0.3694 - accuracy: 0.8490\n",
      "Epoch 14/100\n",
      "8000/8000 [==============================] - 3s 346us/step - loss: 0.3683 - accuracy: 0.8522\n",
      "Epoch 15/100\n",
      "8000/8000 [==============================] - 4s 459us/step - loss: 0.3657 - accuracy: 0.8533\n",
      "Epoch 16/100\n",
      "8000/8000 [==============================] - 4s 505us/step - loss: 0.3644 - accuracy: 0.8522\n",
      "Epoch 17/100\n",
      "8000/8000 [==============================] - 4s 493us/step - loss: 0.3617 - accuracy: 0.8537\n",
      "Epoch 18/100\n",
      "8000/8000 [==============================] - 4s 443us/step - loss: 0.3619 - accuracy: 0.8503\n",
      "Epoch 19/100\n",
      "8000/8000 [==============================] - 4s 443us/step - loss: 0.3604 - accuracy: 0.8511\n",
      "Epoch 20/100\n",
      "8000/8000 [==============================] - 3s 419us/step - loss: 0.3582 - accuracy: 0.8539\n",
      "Epoch 21/100\n",
      "8000/8000 [==============================] - 3s 380us/step - loss: 0.3582 - accuracy: 0.8549\n",
      "Epoch 22/100\n",
      "8000/8000 [==============================] - 2s 248us/step - loss: 0.3562 - accuracy: 0.8562\n",
      "Epoch 23/100\n",
      "8000/8000 [==============================] - 2s 284us/step - loss: 0.3553 - accuracy: 0.8568\n",
      "Epoch 24/100\n",
      "8000/8000 [==============================] - 3s 351us/step - loss: 0.3548 - accuracy: 0.8572\n",
      "Epoch 25/100\n",
      "8000/8000 [==============================] - 3s 355us/step - loss: 0.3552 - accuracy: 0.8566\n",
      "Epoch 26/100\n",
      "8000/8000 [==============================] - 3s 322us/step - loss: 0.3533 - accuracy: 0.8569\n",
      "Epoch 27/100\n",
      "8000/8000 [==============================] - 3s 365us/step - loss: 0.3530 - accuracy: 0.8622\n",
      "Epoch 28/100\n",
      "8000/8000 [==============================] - 3s 388us/step - loss: 0.3511 - accuracy: 0.8575\n",
      "Epoch 29/100\n",
      "8000/8000 [==============================] - 3s 411us/step - loss: 0.3518 - accuracy: 0.8565\n",
      "Epoch 30/100\n",
      "8000/8000 [==============================] - 4s 450us/step - loss: 0.3510 - accuracy: 0.8585\n",
      "Epoch 31/100\n",
      "8000/8000 [==============================] - 3s 396us/step - loss: 0.3519 - accuracy: 0.8554\n",
      "Epoch 32/100\n",
      "8000/8000 [==============================] - 3s 378us/step - loss: 0.3509 - accuracy: 0.8572\n",
      "Epoch 33/100\n",
      "8000/8000 [==============================] - 3s 373us/step - loss: 0.3502 - accuracy: 0.8559\n",
      "Epoch 34/100\n",
      "8000/8000 [==============================] - 3s 410us/step - loss: 0.3498 - accuracy: 0.8601\n",
      "Epoch 35/100\n",
      "8000/8000 [==============================] - 3s 369us/step - loss: 0.3507 - accuracy: 0.8585\n",
      "Epoch 36/100\n",
      "8000/8000 [==============================] - 4s 494us/step - loss: 0.3484 - accuracy: 0.8618\n",
      "Epoch 37/100\n",
      "8000/8000 [==============================] - 4s 551us/step - loss: 0.3484 - accuracy: 0.8593\n",
      "Epoch 38/100\n",
      "8000/8000 [==============================] - 5s 580us/step - loss: 0.3487 - accuracy: 0.8602\n",
      "Epoch 39/100\n",
      "8000/8000 [==============================] - 4s 529us/step - loss: 0.3489 - accuracy: 0.8593\n",
      "Epoch 40/100\n",
      "8000/8000 [==============================] - 3s 424us/step - loss: 0.3474 - accuracy: 0.8606\n",
      "Epoch 41/100\n",
      "8000/8000 [==============================] - 4s 509us/step - loss: 0.3470 - accuracy: 0.8605\n",
      "Epoch 42/100\n",
      "8000/8000 [==============================] - 4s 492us/step - loss: 0.3459 - accuracy: 0.8601\n",
      "Epoch 43/100\n",
      "8000/8000 [==============================] - 4s 490us/step - loss: 0.3469 - accuracy: 0.8606\n",
      "Epoch 44/100\n",
      "8000/8000 [==============================] - 5s 596us/step - loss: 0.3465 - accuracy: 0.8614\n",
      "Epoch 45/100\n",
      "8000/8000 [==============================] - 5s 570us/step - loss: 0.3471 - accuracy: 0.8614\n",
      "Epoch 46/100\n",
      "8000/8000 [==============================] - 5s 639us/step - loss: 0.3469 - accuracy: 0.8579\n",
      "Epoch 47/100\n",
      "8000/8000 [==============================] - 5s 642us/step - loss: 0.3466 - accuracy: 0.8606\n",
      "Epoch 48/100\n",
      "8000/8000 [==============================] - 4s 514us/step - loss: 0.3459 - accuracy: 0.8577\n",
      "Epoch 49/100\n",
      "8000/8000 [==============================] - 3s 423us/step - loss: 0.3462 - accuracy: 0.8609\n",
      "Epoch 50/100\n",
      "8000/8000 [==============================] - 3s 416us/step - loss: 0.3467 - accuracy: 0.8591\n",
      "Epoch 51/100\n",
      "8000/8000 [==============================] - 3s 418us/step - loss: 0.3450 - accuracy: 0.8605\n",
      "Epoch 52/100\n",
      "8000/8000 [==============================] - 3s 424us/step - loss: 0.3460 - accuracy: 0.8602\n",
      "Epoch 53/100\n",
      "8000/8000 [==============================] - 3s 422us/step - loss: 0.3447 - accuracy: 0.8606\n",
      "Epoch 54/100\n",
      "8000/8000 [==============================] - 4s 456us/step - loss: 0.3448 - accuracy: 0.8604\n",
      "Epoch 55/100\n",
      "8000/8000 [==============================] - 4s 507us/step - loss: 0.3456 - accuracy: 0.8621\n",
      "Epoch 56/100\n",
      "8000/8000 [==============================] - 4s 459us/step - loss: 0.3443 - accuracy: 0.8604\n",
      "Epoch 57/100\n",
      "8000/8000 [==============================] - 4s 469us/step - loss: 0.3449 - accuracy: 0.8600\n",
      "Epoch 58/100\n",
      "8000/8000 [==============================] - 5s 590us/step - loss: 0.3450 - accuracy: 0.8589\n",
      "Epoch 59/100\n",
      "8000/8000 [==============================] - 3s 380us/step - loss: 0.3441 - accuracy: 0.8627\n",
      "Epoch 60/100\n",
      "8000/8000 [==============================] - 4s 468us/step - loss: 0.3449 - accuracy: 0.8602\n",
      "Epoch 61/100\n",
      "8000/8000 [==============================] - 4s 483us/step - loss: 0.3449 - accuracy: 0.8627\n",
      "Epoch 62/100\n",
      "8000/8000 [==============================] - 4s 475us/step - loss: 0.3445 - accuracy: 0.8620\n",
      "Epoch 63/100\n",
      "8000/8000 [==============================] - 3s 418us/step - loss: 0.3428 - accuracy: 0.8624\n",
      "Epoch 64/100\n",
      "8000/8000 [==============================] - 3s 420us/step - loss: 0.3452 - accuracy: 0.8622\n",
      "Epoch 65/100\n",
      "8000/8000 [==============================] - 3s 427us/step - loss: 0.3442 - accuracy: 0.8601\n",
      "Epoch 66/100\n",
      "8000/8000 [==============================] - 3s 413us/step - loss: 0.3456 - accuracy: 0.8616\n",
      "Epoch 67/100\n",
      "8000/8000 [==============================] - 3s 417us/step - loss: 0.3449 - accuracy: 0.8627\n",
      "Epoch 68/100\n",
      "8000/8000 [==============================] - 4s 505us/step - loss: 0.3432 - accuracy: 0.8602\n",
      "Epoch 69/100\n",
      "8000/8000 [==============================] - 3s 431us/step - loss: 0.3429 - accuracy: 0.8620\n",
      "Epoch 70/100\n",
      "8000/8000 [==============================] - 3s 362us/step - loss: 0.3437 - accuracy: 0.8630\n",
      "Epoch 71/100\n",
      "8000/8000 [==============================] - 3s 418us/step - loss: 0.3433 - accuracy: 0.8602\n",
      "Epoch 72/100\n",
      "8000/8000 [==============================] - 4s 500us/step - loss: 0.3430 - accuracy: 0.8610\n",
      "Epoch 73/100\n",
      "8000/8000 [==============================] - 4s 478us/step - loss: 0.3443 - accuracy: 0.8637\n",
      "Epoch 74/100\n",
      "8000/8000 [==============================] - 4s 544us/step - loss: 0.3435 - accuracy: 0.8611\n",
      "Epoch 75/100\n",
      "8000/8000 [==============================] - 3s 413us/step - loss: 0.3424 - accuracy: 0.8570\n",
      "Epoch 76/100\n",
      "8000/8000 [==============================] - 2s 268us/step - loss: 0.3436 - accuracy: 0.8605\n",
      "Epoch 77/100\n",
      "8000/8000 [==============================] - 4s 457us/step - loss: 0.3433 - accuracy: 0.8601\n",
      "Epoch 78/100\n"
     ]
    },
    {
     "name": "stdout",
     "output_type": "stream",
     "text": [
      "8000/8000 [==============================] - 4s 445us/step - loss: 0.3414 - accuracy: 0.8624\n",
      "Epoch 79/100\n",
      "8000/8000 [==============================] - 3s 430us/step - loss: 0.3426 - accuracy: 0.8627\n",
      "Epoch 80/100\n",
      "8000/8000 [==============================] - 4s 459us/step - loss: 0.3418 - accuracy: 0.8622\n",
      "Epoch 81/100\n",
      "8000/8000 [==============================] - 4s 439us/step - loss: 0.3421 - accuracy: 0.8621\n",
      "Epoch 82/100\n",
      "8000/8000 [==============================] - 3s 435us/step - loss: 0.3426 - accuracy: 0.8629\n",
      "Epoch 83/100\n",
      "8000/8000 [==============================] - 3s 431us/step - loss: 0.3416 - accuracy: 0.8602\n",
      "Epoch 84/100\n",
      "8000/8000 [==============================] - 3s 433us/step - loss: 0.3425 - accuracy: 0.8594\n",
      "Epoch 85/100\n",
      "8000/8000 [==============================] - 3s 432us/step - loss: 0.3421 - accuracy: 0.8604\n",
      "Epoch 86/100\n",
      "8000/8000 [==============================] - 5s 575us/step - loss: 0.3420 - accuracy: 0.8630\n",
      "Epoch 87/100\n",
      "8000/8000 [==============================] - 4s 460us/step - loss: 0.3428 - accuracy: 0.8596\n",
      "Epoch 88/100\n",
      "8000/8000 [==============================] - 3s 434us/step - loss: 0.3420 - accuracy: 0.8595\n",
      "Epoch 89/100\n",
      "8000/8000 [==============================] - 3s 435us/step - loss: 0.3427 - accuracy: 0.8593\n",
      "Epoch 90/100\n",
      "8000/8000 [==============================] - 4s 514us/step - loss: 0.3422 - accuracy: 0.8610\n",
      "Epoch 91/100\n",
      "8000/8000 [==============================] - 4s 527us/step - loss: 0.3419 - accuracy: 0.8615\n",
      "Epoch 92/100\n",
      "8000/8000 [==============================] - 4s 488us/step - loss: 0.3413 - accuracy: 0.8612\n",
      "Epoch 93/100\n",
      "8000/8000 [==============================] - 4s 443us/step - loss: 0.3421 - accuracy: 0.8594\n",
      "Epoch 94/100\n",
      "8000/8000 [==============================] - 3s 334us/step - loss: 0.3424 - accuracy: 0.8644\n",
      "Epoch 95/100\n",
      "8000/8000 [==============================] - 3s 434us/step - loss: 0.3408 - accuracy: 0.8619\n",
      "Epoch 96/100\n",
      "8000/8000 [==============================] - 3s 436us/step - loss: 0.3420 - accuracy: 0.8604\n",
      "Epoch 97/100\n",
      "8000/8000 [==============================] - 4s 450us/step - loss: 0.3423 - accuracy: 0.8616\n",
      "Epoch 98/100\n",
      "8000/8000 [==============================] - 3s 428us/step - loss: 0.3416 - accuracy: 0.8631\n",
      "Epoch 99/100\n",
      "8000/8000 [==============================] - 3s 423us/step - loss: 0.3409 - accuracy: 0.8579\n",
      "Epoch 100/100\n",
      "8000/8000 [==============================] - 3s 422us/step - loss: 0.3418 - accuracy: 0.8605\n"
     ]
    },
    {
     "data": {
      "text/plain": [
       "<keras.callbacks.callbacks.History at 0x7fa03471dd68>"
      ]
     },
     "execution_count": 24,
     "metadata": {},
     "output_type": "execute_result"
    }
   ],
   "source": [
    "# Adding the input layer and the first hidden layer\n",
    "classifier.add(Dense(output_dim = 6, init = 'uniform', activation = 'relu', input_dim = 11))\n",
    "\n",
    "# Adding the second hidden layer\n",
    "classifier.add(Dense(output_dim = 6, init = 'uniform', activation = 'relu'))\n",
    "\n",
    "# Adding the output layer\n",
    "classifier.add(Dense(output_dim = 1, init = 'uniform', activation = 'sigmoid'))\n",
    "\n",
    "# Compiling the ANN\n",
    "classifier.compile(optimizer = 'adam', loss = 'binary_crossentropy', metrics = ['accuracy'])\n",
    "\n",
    "# Fitting the ANN to the Training set\n",
    "classifier.fit(x_train, y_train, batch_size = 10, nb_epoch = 100)"
   ]
  },
  {
   "cell_type": "code",
   "execution_count": 30,
   "metadata": {},
   "outputs": [
    {
     "name": "stdout",
     "output_type": "stream",
     "text": [
      "[[False]\n",
      " [False]\n",
      " [False]\n",
      " ...\n",
      " [False]\n",
      " [False]\n",
      " [False]]\n"
     ]
    }
   ],
   "source": [
    "y_pred = classifier.predict(x_test)\n",
    "y_pred = (y_pred > 0.5)\n",
    "print(y_pred)\n",
    "\n",
    "# Making the Confusion Matrix\n",
    "from sklearn.metrics import confusion_matrix\n",
    "cm = confusion_matrix(y_test, y_pred)"
   ]
  },
  {
   "cell_type": "code",
   "execution_count": 27,
   "metadata": {},
   "outputs": [
    {
     "data": {
      "text/plain": [
       "array([[1504,   91],\n",
       "       [ 195,  210]])"
      ]
     },
     "execution_count": 27,
     "metadata": {},
     "output_type": "execute_result"
    }
   ],
   "source": [
    "cm"
   ]
  },
  {
   "cell_type": "code",
   "execution_count": null,
   "metadata": {},
   "outputs": [],
   "source": []
  }
 ],
 "metadata": {
  "kernelspec": {
   "display_name": "Python 3",
   "language": "python",
   "name": "python3"
  },
  "language_info": {
   "codemirror_mode": {
    "name": "ipython",
    "version": 3
   },
   "file_extension": ".py",
   "mimetype": "text/x-python",
   "name": "python",
   "nbconvert_exporter": "python",
   "pygments_lexer": "ipython3",
   "version": "3.7.3"
  }
 },
 "nbformat": 4,
 "nbformat_minor": 2
}
